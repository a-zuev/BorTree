{
 "cells": [
  {
   "cell_type": "code",
   "execution_count": null,
   "metadata": {
    "collapsed": true
   },
   "outputs": [],
   "source": [
    "class Node:\n",
    "    def __init__(self, parent, char):\n",
    "        self.parent = parent\n",
    "        self.ch = char\n",
    "        self.children = {}"
   ]
  },
  {
   "cell_type": "code",
   "execution_count": null,
   "metadata": {
    "collapsed": true
   },
   "outputs": [],
   "source": [
    "class Tree:\n",
    "    def __init__(self):\n",
    "        self.root = Node(None, None)\n",
    "        \n",
    "    def add_word(self, word):\n",
    "        curr_node = self.root\n",
    "        word = word + '$'\n",
    "        for ch in word:\n",
    "            if ch not in curr_node.children:\n",
    "                curr_node.children[ch] = Node(curr_node, ch)\n",
    "            curr_node = curr_node.children[ch]\n",
    "        word = word[:-1]\n",
    "\n",
    "    def find_word(self, word):\n",
    "        curr_node = self.root\n",
    "        word = word + '$'\n",
    "        for ch in word:\n",
    "            if ch not in curr_node.children:\n",
    "                return False\n",
    "            curr_node = curr_node.children[ch]\n",
    "        word = word[:-1]\n",
    "        return curr_node\n",
    "    \n",
    "    def recover_word(self, node):\n",
    "        a = ''\n",
    "        curr_node = node\n",
    "        while curr_node.parent != None:\n",
    "            a += curr_node.ch\n",
    "            curr_node = curr_node.parent\n",
    "        a = a[-1::-1] #reverse\n",
    "        return a\n",
    "    \n",
    "    output_pos = 0\n",
    "    \n",
    "    def output(self, node, level):\n",
    "        #Осторожно, рекурсия!\n",
    "        if len(node.children) == 0:\n",
    "            print()\n",
    "            self.output_pos = 0\n",
    "        for ch in node.children:\n",
    "            print(' '*(level - self.output_pos), end = '')\n",
    "            self.output_pos = level\n",
    "            print(ch, end = '')\n",
    "            self.output_pos = self.output_pos + 1\n",
    "            self.output(node.children[ch], level + 1)\n",
    "    \n",
    "    def cool_output(self):\n",
    "        #Осторожно, рекурсия!\n",
    "        self.output(self.root, 0)\n",
    "\n",
    "    def add_word_with_lemma(self, word, lemma):\n",
    "        self.add_word(lemma)\n",
    "        curr_node = self.root\n",
    "        word = word + '$'\n",
    "        for ch in word:\n",
    "            if ch not in curr_node.children:\n",
    "                curr_node.children[ch] = Node(curr_node, ch)\n",
    "            curr_node = curr_node.children[ch]\n",
    "        word = word[:-1]\n",
    "        curr_node.lemma = self.find_word(lemma)\n",
    "        \n",
    "    def get_lemma(self, word):\n",
    "        word_node = self.find_word(word)\n",
    "        lemma_node = word_node.lemma\n",
    "        lemma = self.recover_word(lemma_node)\n",
    "        return lemma"
   ]
  },
  {
   "cell_type": "code",
   "execution_count": null,
   "metadata": {
    "collapsed": true
   },
   "outputs": [],
   "source": []
  },
  {
   "cell_type": "code",
   "execution_count": null,
   "metadata": {
    "collapsed": false
   },
   "outputs": [],
   "source": [
    "import csv\n",
    "\n",
    "csvfile = open(\"odict.csv\", encoding='cp1251')\n",
    "reader = csv.reader(csvfile)\n",
    "Tree = Tree() #делаем Map\n",
    "cases = []\n",
    "for row in reader:\n",
    "    lemma = row[0] #парсим\n",
    "    forms = row[2:] #парсим\n",
    "    for form in forms:\n",
    "        Tree.add_word_with_lemma(form, lemma)"
   ]
  },
  {
   "cell_type": "code",
   "execution_count": null,
   "metadata": {
    "collapsed": false
   },
   "outputs": [],
   "source": []
  },
  {
   "cell_type": "code",
   "execution_count": null,
   "metadata": {
    "collapsed": false
   },
   "outputs": [],
   "source": [
    "Lemmatisator['кошки']"
   ]
  },
  {
   "cell_type": "code",
   "execution_count": null,
   "metadata": {
    "collapsed": false
   },
   "outputs": [],
   "source": [
    "Lemmatisator['приделал']"
   ]
  },
  {
   "cell_type": "code",
   "execution_count": null,
   "metadata": {
    "collapsed": false
   },
   "outputs": [],
   "source": [
    "Lemmatisator['Лёха']"
   ]
  },
  {
   "cell_type": "code",
   "execution_count": null,
   "metadata": {
    "collapsed": false,
    "scrolled": true
   },
   "outputs": [],
   "source": [
    "cases[150:200]"
   ]
  },
  {
   "cell_type": "code",
   "execution_count": null,
   "metadata": {
    "collapsed": false
   },
   "outputs": [],
   "source": [
    "len(cases)"
   ]
  },
  {
   "cell_type": "code",
   "execution_count": null,
   "metadata": {
    "collapsed": false
   },
   "outputs": [],
   "source": [
    "len(Lemmatisator)"
   ]
  },
  {
   "cell_type": "code",
   "execution_count": null,
   "metadata": {
    "collapsed": false
   },
   "outputs": [],
   "source": [
    "len(cases)/len(Lemmatisator)"
   ]
  },
  {
   "cell_type": "code",
   "execution_count": null,
   "metadata": {
    "collapsed": true
   },
   "outputs": [],
   "source": []
  }
 ],
 "metadata": {
  "anaconda-cloud": {},
  "kernelspec": {
   "display_name": "Python [conda root]",
   "language": "python",
   "name": "conda-root-py"
  },
  "language_info": {
   "codemirror_mode": {
    "name": "ipython",
    "version": 3
   },
   "file_extension": ".py",
   "mimetype": "text/x-python",
   "name": "python",
   "nbconvert_exporter": "python",
   "pygments_lexer": "ipython3",
   "version": "3.5.2"
  }
 },
 "nbformat": 4,
 "nbformat_minor": 1
}
