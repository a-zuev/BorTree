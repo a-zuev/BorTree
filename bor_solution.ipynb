{
 "cells": [
  {
   "cell_type": "code",
   "execution_count": 2,
   "metadata": {
    "collapsed": true
   },
   "outputs": [],
   "source": [
    "class Node:\n",
    "    def __init__(self, parent, char):\n",
    "        self.parent = parent\n",
    "        self.ch = char\n",
    "        self.children = {}"
   ]
  },
  {
   "cell_type": "code",
   "execution_count": 3,
   "metadata": {
    "collapsed": true
   },
   "outputs": [],
   "source": [
    "class Tree:\n",
    "    def __init__(self):\n",
    "        self.root = Node(None, None)\n",
    "        \n",
    "    def add_word(self, word):\n",
    "        curr_node = self.root\n",
    "        word = word + '$'\n",
    "        for ch in word:\n",
    "            if ch not in curr_node.children:\n",
    "                curr_node.children[ch] = Node(curr_node, ch)\n",
    "            curr_node = curr_node.children[ch]\n",
    "        word = word[:-1]\n",
    "\n",
    "    def find_word(self, word):\n",
    "        curr_node = self.root\n",
    "        word = word + '$'\n",
    "        for ch in word:\n",
    "            if ch not in curr_node.children:\n",
    "                return False\n",
    "            curr_node = curr_node.children[ch]\n",
    "        word = word[:-1]\n",
    "        return curr_node\n",
    "    \n",
    "    def recover_word(self, node):\n",
    "        a = ''\n",
    "        curr_node = node\n",
    "        while curr_node.parent != None:\n",
    "            a += curr_node.ch\n",
    "            curr_node = curr_node.parent\n",
    "        a = a[-1::-1] #reverse\n",
    "        return a\n",
    "    \n",
    "    output_pos = 0\n",
    "    \n",
    "    def output(self, node, level):\n",
    "        #Осторожно, рекурсия!\n",
    "        if len(node.children) == 0:\n",
    "            print()\n",
    "            self.output_pos = 0\n",
    "        for ch in node.children:\n",
    "            print(' '*(level - self.output_pos), end = '')\n",
    "            self.output_pos = level\n",
    "            print(ch, end = '')\n",
    "            self.output_pos = self.output_pos + 1\n",
    "            self.output(node.children[ch], level + 1)\n",
    "    \n",
    "    def cool_output(self):\n",
    "        #Осторожно, рекурсия!\n",
    "        self.output(self.root, 0)\n",
    "\n",
    "    def add_word_with_lemma(self, word, lemma):\n",
    "        self.add_word(lemma)\n",
    "        curr_node = self.root\n",
    "        word = word + '$'\n",
    "        for ch in word:\n",
    "            if ch not in curr_node.children:\n",
    "                curr_node.children[ch] = Node(curr_node, ch)\n",
    "            curr_node = curr_node.children[ch]\n",
    "        word = word[:-1]\n",
    "        curr_node.lemma = self.find_word(lemma)\n",
    "        \n",
    "    def get_lemma(self, word):\n",
    "        word_node = self.find_word(word)\n",
    "        lemma_node = word_node.lemma\n",
    "        lemma = self.recover_word(lemma_node)\n",
    "        return lemma"
   ]
  },
  {
   "cell_type": "code",
   "execution_count": null,
   "metadata": {
    "collapsed": true
   },
   "outputs": [],
   "source": []
  },
  {
   "cell_type": "code",
   "execution_count": 4,
   "metadata": {
    "collapsed": false
   },
   "outputs": [],
   "source": [
    "import csv\n",
    "\n",
    "csvfile = open(\"odict.csv\", encoding='cp1251')\n",
    "reader = csv.reader(csvfile)\n",
    "Tree = Tree() #делаем Map\n",
    "cases = []\n",
    "for row in reader:\n",
    "    lemma = row[0] #парсим\n",
    "    forms = row[2:] #парсим\n",
    "    for form in forms:\n",
    "        Tree.add_word_with_lemma(form, lemma)"
   ]
  },
  {
   "cell_type": "code",
   "execution_count": null,
   "metadata": {
    "collapsed": false
   },
   "outputs": [],
   "source": []
  },
  {
   "cell_type": "code",
   "execution_count": 5,
   "metadata": {
    "collapsed": false
   },
   "outputs": [
    {
     "data": {
      "text/plain": [
       "'кошка$'"
      ]
     },
     "execution_count": 5,
     "metadata": {},
     "output_type": "execute_result"
    }
   ],
   "source": [
    "Tree.get_lemma('кошки')"
   ]
  },
  {
   "cell_type": "code",
   "execution_count": 6,
   "metadata": {
    "collapsed": false
   },
   "outputs": [
    {
     "data": {
      "text/plain": [
       "'приделать$'"
      ]
     },
     "execution_count": 6,
     "metadata": {},
     "output_type": "execute_result"
    }
   ],
   "source": [
    "Tree.get_lemma('приделал')"
   ]
  },
  {
   "cell_type": "code",
   "execution_count": 7,
   "metadata": {
    "collapsed": false
   },
   "outputs": [
    {
     "ename": "AttributeError",
     "evalue": "'bool' object has no attribute 'lemma'",
     "output_type": "error",
     "traceback": [
      "\u001b[0;31m---------------------------------------------------------------------------\u001b[0m",
      "\u001b[0;31mAttributeError\u001b[0m                            Traceback (most recent call last)",
      "\u001b[0;32m<ipython-input-7-b13723fdf4a2>\u001b[0m in \u001b[0;36m<module>\u001b[0;34m()\u001b[0m\n\u001b[0;32m----> 1\u001b[0;31m \u001b[0mTree\u001b[0m\u001b[0;34m.\u001b[0m\u001b[0mget_lemma\u001b[0m\u001b[0;34m(\u001b[0m\u001b[0;34m'Лёха'\u001b[0m\u001b[0;34m)\u001b[0m\u001b[0;34m\u001b[0m\u001b[0m\n\u001b[0m",
      "\u001b[0;32m<ipython-input-3-f2eddfb889ad>\u001b[0m in \u001b[0;36mget_lemma\u001b[0;34m(self, word)\u001b[0m\n\u001b[1;32m     62\u001b[0m     \u001b[0;32mdef\u001b[0m \u001b[0mget_lemma\u001b[0m\u001b[0;34m(\u001b[0m\u001b[0mself\u001b[0m\u001b[0;34m,\u001b[0m \u001b[0mword\u001b[0m\u001b[0;34m)\u001b[0m\u001b[0;34m:\u001b[0m\u001b[0;34m\u001b[0m\u001b[0m\n\u001b[1;32m     63\u001b[0m         \u001b[0mword_node\u001b[0m \u001b[0;34m=\u001b[0m \u001b[0mself\u001b[0m\u001b[0;34m.\u001b[0m\u001b[0mfind_word\u001b[0m\u001b[0;34m(\u001b[0m\u001b[0mword\u001b[0m\u001b[0;34m)\u001b[0m\u001b[0;34m\u001b[0m\u001b[0m\n\u001b[0;32m---> 64\u001b[0;31m         \u001b[0mlemma_node\u001b[0m \u001b[0;34m=\u001b[0m \u001b[0mword_node\u001b[0m\u001b[0;34m.\u001b[0m\u001b[0mlemma\u001b[0m\u001b[0;34m\u001b[0m\u001b[0m\n\u001b[0m\u001b[1;32m     65\u001b[0m         \u001b[0mlemma\u001b[0m \u001b[0;34m=\u001b[0m \u001b[0mself\u001b[0m\u001b[0;34m.\u001b[0m\u001b[0mrecover_word\u001b[0m\u001b[0;34m(\u001b[0m\u001b[0mlemma_node\u001b[0m\u001b[0;34m)\u001b[0m\u001b[0;34m\u001b[0m\u001b[0m\n\u001b[1;32m     66\u001b[0m         \u001b[0;32mreturn\u001b[0m \u001b[0mlemma\u001b[0m\u001b[0;34m\u001b[0m\u001b[0m\n",
      "\u001b[0;31mAttributeError\u001b[0m: 'bool' object has no attribute 'lemma'"
     ]
    }
   ],
   "source": [
    "Tree.get_lemma('Лёха')"
   ]
  }
 ],
 "metadata": {
  "anaconda-cloud": {},
  "kernelspec": {
   "display_name": "Python [conda root]",
   "language": "python",
   "name": "conda-root-py"
  },
  "language_info": {
   "codemirror_mode": {
    "name": "ipython",
    "version": 3
   },
   "file_extension": ".py",
   "mimetype": "text/x-python",
   "name": "python",
   "nbconvert_exporter": "python",
   "pygments_lexer": "ipython3",
   "version": "3.5.2"
  }
 },
 "nbformat": 4,
 "nbformat_minor": 1
}
