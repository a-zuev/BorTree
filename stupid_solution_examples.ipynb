{
 "cells": [
  {
   "cell_type": "code",
   "execution_count": 23,
   "metadata": {
    "collapsed": false
   },
   "outputs": [],
   "source": [
    "import csv\n",
    "\n",
    "csvfile = open(\"odict.csv\", encoding='cp1251')\n",
    "reader = csv.reader(csvfile)\n",
    "Lemmatisator = {} #делаем Map\n",
    "cases = []\n",
    "for row in reader:\n",
    "    lemma = row[0] #парсим\n",
    "    forms = row[2:] #парсим\n",
    "    for form in forms:\n",
    "        if (form in Lemmatisator and Lemmatisator[form] != lemma and form != '' and Lemmatisator[form] + 'ся' != lemma):\n",
    "            cases.append([form, Lemmatisator[form], lemma])\n",
    "        Lemmatisator[form] = lemma #заполняем map "
   ]
  },
  {
   "cell_type": "code",
   "execution_count": 24,
   "metadata": {
    "collapsed": false
   },
   "outputs": [
    {
     "data": {
      "text/plain": [
       "'кошка'"
      ]
     },
     "execution_count": 24,
     "metadata": {},
     "output_type": "execute_result"
    }
   ],
   "source": [
    "Lemmatisator['кошки']"
   ]
  },
  {
   "cell_type": "code",
   "execution_count": 25,
   "metadata": {
    "collapsed": false
   },
   "outputs": [
    {
     "data": {
      "text/plain": [
       "'приделать'"
      ]
     },
     "execution_count": 25,
     "metadata": {},
     "output_type": "execute_result"
    }
   ],
   "source": [
    "Lemmatisator['приделал']"
   ]
  },
  {
   "cell_type": "code",
   "execution_count": 26,
   "metadata": {
    "collapsed": false
   },
   "outputs": [
    {
     "ename": "KeyError",
     "evalue": "'Лёха'",
     "output_type": "error",
     "traceback": [
      "\u001b[0;31m---------------------------------------------------------------------------\u001b[0m",
      "\u001b[0;31mKeyError\u001b[0m                                  Traceback (most recent call last)",
      "\u001b[0;32m<ipython-input-26-8ba9cec2fccb>\u001b[0m in \u001b[0;36m<module>\u001b[0;34m()\u001b[0m\n\u001b[0;32m----> 1\u001b[0;31m \u001b[0mLemmatisator\u001b[0m\u001b[0;34m[\u001b[0m\u001b[0;34m'Лёха'\u001b[0m\u001b[0;34m]\u001b[0m\u001b[0;34m\u001b[0m\u001b[0m\n\u001b[0m",
      "\u001b[0;31mKeyError\u001b[0m: 'Лёха'"
     ]
    }
   ],
   "source": [
    "Lemmatisator['Лёха']"
   ]
  },
  {
   "cell_type": "code",
   "execution_count": 33,
   "metadata": {
    "collapsed": false,
    "scrolled": true
   },
   "outputs": [
    {
     "data": {
      "text/plain": [
       "[['ализаринов', 'ализарин', 'ализариновый'],\n",
       " ['алломорфы', 'алломорф', 'алломорфа'],\n",
       " ['алломорфе', 'алломорф', 'алломорфа'],\n",
       " ['алломорфу', 'алломорф', 'алломорфа'],\n",
       " ['алломорф', 'алломорф', 'алломорфа'],\n",
       " ['алломорфам', 'алломорф', 'алломорфа'],\n",
       " ['алломорфами', 'алломорф', 'алломорфа'],\n",
       " ['алломорфах', 'алломорф', 'алломорфа'],\n",
       " ['Алма-аты', 'Алма-ата', 'Алма-аты'],\n",
       " ['алтеи', 'алтей', 'алтея'],\n",
       " ['алтее', 'алтей', 'алтея'],\n",
       " ['алтею', 'алтей', 'алтея'],\n",
       " ['алтей', 'алтей', 'алтея'],\n",
       " ['алтеям', 'алтей', 'алтея'],\n",
       " ['алтеями', 'алтей', 'алтея'],\n",
       " ['алтеях', 'алтей', 'алтея'],\n",
       " ['алей', 'алеть', 'алый'],\n",
       " ['Альберты', 'Альберт', 'Альберта'],\n",
       " ['Альберте', 'Альберт', 'Альберта'],\n",
       " ['Альберту', 'Альберт', 'Альберта'],\n",
       " ['Альбертам', 'Альберт', 'Альберта'],\n",
       " ['Альбертами', 'Альберт', 'Альберта'],\n",
       " ['Альбертах', 'Альберт', 'Альберта'],\n",
       " ['альбуминов', 'альбумин', 'альбуминовый'],\n",
       " ['альтов', 'альт', 'альтовый'],\n",
       " ['алюминиев', 'алюминиевый', 'алюминий'],\n",
       " ['Али', 'Али', 'Аля'],\n",
       " ['амарантов', 'амарант', 'амарантовый'],\n",
       " ['амариллисов', 'амариллис', 'амариллисовый'],\n",
       " ['амбре', 'амбра', 'амбре'],\n",
       " ['аметистов', 'аметист', 'аметистовый'],\n",
       " ['амиантов', 'амиант', 'амиантовый'],\n",
       " ['аммониев', 'аммониевый', 'аммоний'],\n",
       " ['амнистированного', 'амнистированный', 'амнистировать'],\n",
       " ['амнистированному', 'амнистированный', 'амнистировать'],\n",
       " ['амнистированным', 'амнистированный', 'амнистировать'],\n",
       " ['амнистированном', 'амнистированный', 'амнистировать'],\n",
       " ['амнистированные', 'амнистированный', 'амнистировать'],\n",
       " ['амнистированных', 'амнистированный', 'амнистировать'],\n",
       " ['амнистированными', 'амнистированный', 'амнистировать'],\n",
       " ['аналитики', 'аналитик', 'аналитика'],\n",
       " ['аналитике', 'аналитик', 'аналитика'],\n",
       " ['аналитику', 'аналитик', 'аналитика'],\n",
       " ['аналитикам', 'аналитик', 'аналитика'],\n",
       " ['аналитиками', 'аналитик', 'аналитика'],\n",
       " ['аналитиках', 'аналитик', 'аналитика'],\n",
       " ['ананасов', 'ананас', 'ананасовый'],\n",
       " ['Анатолии', 'Анатолий', 'Анатолия'],\n",
       " ['Анатолию', 'Анатолий', 'Анатолия'],\n",
       " ['Анатолиям', 'Анатолий', 'Анатолия']]"
      ]
     },
     "execution_count": 33,
     "metadata": {},
     "output_type": "execute_result"
    }
   ],
   "source": [
    "cases[150:200]"
   ]
  },
  {
   "cell_type": "code",
   "execution_count": 34,
   "metadata": {
    "collapsed": false
   },
   "outputs": [
    {
     "data": {
      "text/plain": [
       "32898"
      ]
     },
     "execution_count": 34,
     "metadata": {},
     "output_type": "execute_result"
    }
   ],
   "source": [
    "len(cases)"
   ]
  },
  {
   "cell_type": "code",
   "execution_count": 35,
   "metadata": {
    "collapsed": false
   },
   "outputs": [
    {
     "data": {
      "text/plain": [
       "2278890"
      ]
     },
     "execution_count": 35,
     "metadata": {},
     "output_type": "execute_result"
    }
   ],
   "source": [
    "len(Lemmatisator)"
   ]
  },
  {
   "cell_type": "code",
   "execution_count": 36,
   "metadata": {
    "collapsed": false
   },
   "outputs": [
    {
     "data": {
      "text/plain": [
       "0.014435975409080736"
      ]
     },
     "execution_count": 36,
     "metadata": {},
     "output_type": "execute_result"
    }
   ],
   "source": [
    "len(cases)/len(Lemmatisator)"
   ]
  },
  {
   "cell_type": "code",
   "execution_count": null,
   "metadata": {
    "collapsed": true
   },
   "outputs": [],
   "source": []
  }
 ],
 "metadata": {
  "anaconda-cloud": {},
  "kernelspec": {
   "display_name": "Python [conda root]",
   "language": "python",
   "name": "conda-root-py"
  },
  "language_info": {
   "codemirror_mode": {
    "name": "ipython",
    "version": 3
   },
   "file_extension": ".py",
   "mimetype": "text/x-python",
   "name": "python",
   "nbconvert_exporter": "python",
   "pygments_lexer": "ipython3",
   "version": "3.5.2"
  }
 },
 "nbformat": 4,
 "nbformat_minor": 1
}
