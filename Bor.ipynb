{
 "cells": [
  {
   "cell_type": "code",
   "execution_count": 2,
   "metadata": {
    "collapsed": false
   },
   "outputs": [],
   "source": [
    "class Node:\n",
    "    def __init__(self, parent, char):\n",
    "        self.parent = parent\n",
    "        self.ch = char\n",
    "        self.children = {}"
   ]
  },
  {
   "cell_type": "code",
   "execution_count": 3,
   "metadata": {
    "collapsed": true
   },
   "outputs": [],
   "source": [
    "class State:\n",
    "    def __init__(self, node, pos, dist):\n",
    "        self.node = node\n",
    "        self.pos = pos\n",
    "        self.dist = dist"
   ]
  },
  {
   "cell_type": "code",
   "execution_count": 38,
   "metadata": {
    "collapsed": false
   },
   "outputs": [],
   "source": [
    "class Tree:\n",
    "    def __init__(self):\n",
    "        self.root = Node(None, None)\n",
    "        \n",
    "    def add_word(self, word):\n",
    "        curr_node = self.root\n",
    "        word = word + '$'\n",
    "        for ch in word:\n",
    "            if ch not in curr_node.children:\n",
    "                curr_node.children[ch] = Node(curr_node, ch)\n",
    "            curr_node = curr_node.children[ch]\n",
    "        word = word[:-1]\n",
    "\n",
    "    def find_word(self, word):\n",
    "        curr_node = self.root\n",
    "        word = word + '$'\n",
    "        for ch in word:\n",
    "            if ch not in curr_node.children:\n",
    "                return False\n",
    "            curr_node = curr_node.children[ch]\n",
    "        word = word[:-1]\n",
    "        return curr_node\n",
    "    \n",
    "    def recover_word(self, node):\n",
    "        a = ''\n",
    "        curr_node = node\n",
    "        while curr_node.parent != None:\n",
    "            a += curr_node.ch\n",
    "            curr_node = curr_node.parent\n",
    "        a = a[-1::-1] #reverse\n",
    "        return a\n",
    "    \n",
    "    output_pos = 0\n",
    "    \n",
    "    def output(self, node, level):\n",
    "        #Осторожно, рекурсия!\n",
    "        if len(node.children) == 0:\n",
    "            print()\n",
    "            self.output_pos = 0\n",
    "        for ch in node.children:\n",
    "            print(' '*(level - self.output_pos), end = '')\n",
    "            self.output_pos = level\n",
    "            print(ch, end = '')\n",
    "            self.output_pos = self.output_pos + 1\n",
    "            self.output(node.children[ch], level + 1)\n",
    "    \n",
    "    def cool_output(self):\n",
    "        #Осторожно, рекурсия!\n",
    "        self.output(self.root, 0)\n",
    "\n",
    "    def add_word_with_lemma(self, word, lemma):\n",
    "        self.add_word(lemma)\n",
    "        curr_node = self.root\n",
    "        word = word + '$'\n",
    "        for ch in word:\n",
    "            if ch not in curr_node.children:\n",
    "                curr_node.children[ch] = Node(curr_node, ch)\n",
    "            curr_node = curr_node.children[ch]\n",
    "        word = word[:-1]\n",
    "        curr_node.lemma = self.find_word(lemma)\n",
    "        \n",
    "    def get_lemma(self, word):\n",
    "        word_node = self.find_word(word)\n",
    "        lemma_node = word_node.lemma\n",
    "        lemma = self.recover_word(lemma_node)\n",
    "        return lemma"
   ]
  },
  {
   "cell_type": "code",
   "execution_count": 39,
   "metadata": {
    "collapsed": false
   },
   "outputs": [],
   "source": [
    "tree = Tree()"
   ]
  },
  {
   "cell_type": "code",
   "execution_count": 40,
   "metadata": {
    "collapsed": false
   },
   "outputs": [],
   "source": [
    "tree.add_word('лёха')\n",
    "tree.add_word('лысый')\n",
    "tree.add_word('лысик')\n",
    "tree.add_word('соня')\n",
    "tree.add_word('лысяра')\n",
    "tree.add_word('лысенький')\n",
    "tree.add_word('лыхундра')\n",
    "tree.add_word('слоня')\n",
    "tree.add_word('слония')"
   ]
  },
  {
   "cell_type": "code",
   "execution_count": 41,
   "metadata": {
    "collapsed": false
   },
   "outputs": [
    {
     "name": "stdout",
     "output_type": "stream",
     "text": [
      "соня$\n",
      " лония$\n",
      "    я$\n",
      "лысый$\n",
      "   ик$\n",
      "   енький$\n",
      "   яра$\n",
      "  хундра$\n",
      " ёха$\n"
     ]
    }
   ],
   "source": [
    "tree.cool_output()"
   ]
  },
  {
   "cell_type": "code",
   "execution_count": 42,
   "metadata": {
    "collapsed": false
   },
   "outputs": [],
   "source": [
    "a = tree.find_word('лысый')"
   ]
  },
  {
   "cell_type": "code",
   "execution_count": 43,
   "metadata": {
    "collapsed": false
   },
   "outputs": [
    {
     "data": {
      "text/plain": [
       "'лысый$'"
      ]
     },
     "execution_count": 43,
     "metadata": {},
     "output_type": "execute_result"
    }
   ],
   "source": [
    "tree.recover_word(a)"
   ]
  },
  {
   "cell_type": "code",
   "execution_count": 44,
   "metadata": {
    "collapsed": false
   },
   "outputs": [],
   "source": [
    "tree.add_word_with_lemma('лёхе', 'лёха')"
   ]
  },
  {
   "cell_type": "code",
   "execution_count": 45,
   "metadata": {
    "collapsed": false
   },
   "outputs": [
    {
     "name": "stdout",
     "output_type": "stream",
     "text": [
      "соня$\n",
      " лония$\n",
      "    я$\n",
      "лысый$\n",
      "   ик$\n",
      "   енький$\n",
      "   яра$\n",
      "  хундра$\n",
      " ёха$\n",
      "   е$\n"
     ]
    }
   ],
   "source": [
    "tree.cool_output()"
   ]
  },
  {
   "cell_type": "code",
   "execution_count": 46,
   "metadata": {
    "collapsed": false
   },
   "outputs": [
    {
     "data": {
      "text/plain": [
       "'лёха$'"
      ]
     },
     "execution_count": 46,
     "metadata": {},
     "output_type": "execute_result"
    }
   ],
   "source": [
    "tree.get_lemma('лёхе')"
   ]
  },
  {
   "cell_type": "code",
   "execution_count": null,
   "metadata": {
    "collapsed": true
   },
   "outputs": [],
   "source": []
  },
  {
   "cell_type": "code",
   "execution_count": null,
   "metadata": {
    "collapsed": true
   },
   "outputs": [],
   "source": []
  }
 ],
 "metadata": {
  "anaconda-cloud": {},
  "kernelspec": {
   "display_name": "Python [conda root]",
   "language": "python",
   "name": "conda-root-py"
  },
  "language_info": {
   "codemirror_mode": {
    "name": "ipython",
    "version": 3
   },
   "file_extension": ".py",
   "mimetype": "text/x-python",
   "name": "python",
   "nbconvert_exporter": "python",
   "pygments_lexer": "ipython3",
   "version": "3.5.2"
  }
 },
 "nbformat": 4,
 "nbformat_minor": 1
}
